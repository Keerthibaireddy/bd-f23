{
 "cells": [
  {
   "attachments": {},
   "cell_type": "markdown",
   "metadata": {},
   "source": [
    "## KEERTHI BAI REDDY\n",
    "\n",
    "## MIDTERM EXAM\n",
    "\n",
    "## CASSANDRA"
   ]
  },
  {
   "attachments": {},
   "cell_type": "markdown",
   "metadata": {},
   "source": [
    "### Import Packages"
   ]
  },
  {
   "cell_type": "code",
   "execution_count": 18,
   "metadata": {},
   "outputs": [],
   "source": [
    "import pandas\n",
    "from cassandra.cluster import Cluster"
   ]
  },
  {
   "attachments": {},
   "cell_type": "markdown",
   "metadata": {},
   "source": [
    "### Set Up a Connection to the Cluster"
   ]
  },
  {
   "cell_type": "code",
   "execution_count": 19,
   "metadata": {},
   "outputs": [],
   "source": [
    "clstr = Cluster()\n",
    "session = clstr.connect()"
   ]
  },
  {
   "cell_type": "code",
   "execution_count": 20,
   "metadata": {},
   "outputs": [
    {
     "data": {
      "text/plain": [
       "<cassandra.cluster.ResultSet at 0x7f6775d86050>"
      ]
     },
     "execution_count": 20,
     "metadata": {},
     "output_type": "execute_result"
    }
   ],
   "source": [
    "# Check if the keyspace exists. This code drops the keyspace if it exists\n",
    "session.execute(\"DROP KEYSPACE IF EXISTS song\")"
   ]
  },
  {
   "attachments": {},
   "cell_type": "markdown",
   "metadata": {},
   "source": [
    "### Checks for Existing Keyspaces"
   ]
  },
  {
   "cell_type": "code",
   "execution_count": 21,
   "metadata": {},
   "outputs": [
    {
     "name": "stdout",
     "output_type": "stream",
     "text": [
      "system\n",
      "system_auth\n",
      "system_distributed\n",
      "system_schema\n",
      "system_traces\n",
      "system_views\n",
      "system_virtual_schema\n"
     ]
    }
   ],
   "source": [
    "rows = session.execute(\"desc keyspaces\")\n",
    "for row in rows:\n",
    "    print(f\"{row[0]}\")"
   ]
  },
  {
   "attachments": {},
   "cell_type": "markdown",
   "metadata": {},
   "source": [
    "### Create a new Keyspace \"song\" to the store the song details"
   ]
  },
  {
   "cell_type": "code",
   "execution_count": 22,
   "metadata": {},
   "outputs": [
    {
     "data": {
      "text/plain": [
       "<cassandra.cluster.ResultSet at 0x7f6775d22bf0>"
      ]
     },
     "execution_count": 22,
     "metadata": {},
     "output_type": "execute_result"
    }
   ],
   "source": [
    "session.execute(\"CREATE KEYSPACE IF NOT EXISTS song WITH REPLICATION = {'class':'SimpleStrategy', 'replication_factor':2}\")"
   ]
  },
  {
   "attachments": {},
   "cell_type": "markdown",
   "metadata": {},
   "source": [
    "### Check if the new Keyspace \"song\" has been created"
   ]
  },
  {
   "cell_type": "code",
   "execution_count": 23,
   "metadata": {},
   "outputs": [
    {
     "name": "stdout",
     "output_type": "stream",
     "text": [
      "song\n",
      "system\n",
      "system_auth\n",
      "system_distributed\n",
      "system_schema\n",
      "system_traces\n",
      "system_views\n",
      "system_virtual_schema\n"
     ]
    }
   ],
   "source": [
    "rows = session.execute(\"desc keyspaces\")\n",
    "for row in rows:\n",
    "    print(f\"{row[0]}\")"
   ]
  },
  {
   "attachments": {},
   "cell_type": "markdown",
   "metadata": {},
   "source": [
    "#### We have created a keyspace and chose the name as song and the table name as song details as it contains SongID, Title, Duration and the Genre of the song"
   ]
  },
  {
   "attachments": {},
   "cell_type": "markdown",
   "metadata": {},
   "source": [
    "### Create the table songdetails"
   ]
  },
  {
   "cell_type": "code",
   "execution_count": 24,
   "metadata": {},
   "outputs": [
    {
     "data": {
      "text/plain": [
       "<cassandra.cluster.ResultSet at 0x7f6775d85780>"
      ]
     },
     "execution_count": 24,
     "metadata": {},
     "output_type": "execute_result"
    }
   ],
   "source": [
    "# Created a table \"song\" to store the song information data\n",
    "# The column SongID is primary key\n",
    "\n",
    "session.execute(\"\"\"\n",
    "CREATE TABLE IF NOT EXISTS song.songdetails ( \n",
    "    SongID INT, \n",
    "    Title TEXT, \n",
    "    Duration INT, \n",
    "    Genre TEXT, \n",
    "    PRIMARY KEY(SongID)\n",
    ");\n",
    "\"\"\")"
   ]
  },
  {
   "attachments": {},
   "cell_type": "markdown",
   "metadata": {},
   "source": [
    "### Insert the Data"
   ]
  },
  {
   "cell_type": "code",
   "execution_count": 25,
   "metadata": {},
   "outputs": [],
   "source": [
    "data = [\n",
    "    (101,'Life Goes On', 120, 'country'),\n",
    "    (121,'Aurora', 142, 'pop'),\n",
    "    (132,'Shape of you', 150, 'rock'),\n",
    "    (143,'Starboy', 122, 'country'),\n",
    "    (154,'In the Name of Love', 164, 'classical'),\n",
    "    (165,'One Republic', 120, 'rock'),\n",
    "    (176,'Tsunami', 169, 'country'),\n",
    "    (187,'Gold Saw', 124, 'rock'),\n",
    "    (198,'Stereo Love', 135, 'classical'),\n",
    "    (210,'Blue Eyes', 180, 'pop')\n",
    "]\n",
    "\n",
    "for entry in data:\n",
    "    insert_query = \"\"\" \n",
    "    INSERT INTO song.songdetails (SongID, Title, Duration, Genre)     \n",
    "    VALUES (%s,%s,%s,%s)\n",
    "    \"\"\"\n",
    "\n",
    "    session.execute(insert_query, entry)"
   ]
  },
  {
   "attachments": {},
   "cell_type": "markdown",
   "metadata": {},
   "source": [
    "### Print all the rows in the Table"
   ]
  },
  {
   "cell_type": "code",
   "execution_count": 26,
   "metadata": {},
   "outputs": [
    {
     "name": "stdout",
     "output_type": "stream",
     "text": [
      "SongID=132, Title=Shape of you, Duration=150, Genre=rock\n",
      "SongID=210, Title=Blue Eyes, Duration=180, Genre=pop\n",
      "SongID=176, Title=Tsunami, Duration=169, Genre=country\n",
      "SongID=143, Title=Starboy, Duration=122, Genre=country\n",
      "SongID=121, Title=Aurora, Duration=142, Genre=pop\n",
      "SongID=198, Title=Stereo Love, Duration=135, Genre=classical\n",
      "SongID=187, Title=Gold Saw, Duration=124, Genre=rock\n",
      "SongID=101, Title=Life Goes On, Duration=120, Genre=country\n",
      "SongID=154, Title=In the Name of Love, Duration=164, Genre=classical\n",
      "SongID=165, Title=One Republic, Duration=120, Genre=rock\n"
     ]
    }
   ],
   "source": [
    "# Query to get all the rows in songdetails table\n",
    "\n",
    "rows = session.execute(\"select (SongID, Title, Duration, Genre) from song.songdetails\")\n",
    "for row in rows:\n",
    "    print(f\"SongID={row[0][0]}, Title={row[0][1]}, Duration={row[0][2]}, Genre={row[0][3]}\")"
   ]
  },
  {
   "attachments": {},
   "cell_type": "markdown",
   "metadata": {},
   "source": [
    "### Update Query"
   ]
  },
  {
   "cell_type": "code",
   "execution_count": 27,
   "metadata": {},
   "outputs": [],
   "source": [
    "# Updating a record\n",
    "\n",
    "rows = session.execute(\" UPDATE song.songdetails SET Title = 'Forever' where SongID = 101 \")\n",
    "for row in rows:\n",
    "    print(f\"{row[0][0]}, {row[0][1]}, {row[0][2]}, {row[0][3]}\")"
   ]
  },
  {
   "cell_type": "code",
   "execution_count": 28,
   "metadata": {},
   "outputs": [
    {
     "name": "stdout",
     "output_type": "stream",
     "text": [
      "SongID=132, Title=Shape of you, Duration=150, Genre=rock\n",
      "SongID=210, Title=Blue Eyes, Duration=180, Genre=pop\n",
      "SongID=176, Title=Tsunami, Duration=169, Genre=country\n",
      "SongID=143, Title=Starboy, Duration=122, Genre=country\n",
      "SongID=121, Title=Aurora, Duration=142, Genre=pop\n",
      "SongID=198, Title=Stereo Love, Duration=135, Genre=classical\n",
      "SongID=187, Title=Gold Saw, Duration=124, Genre=rock\n",
      "SongID=101, Title=Forever, Duration=120, Genre=country\n",
      "SongID=154, Title=In the Name of Love, Duration=164, Genre=classical\n",
      "SongID=165, Title=One Republic, Duration=120, Genre=rock\n"
     ]
    }
   ],
   "source": [
    "# Check if the record has been updated\n",
    "\n",
    "rows = session.execute(\"select (SongID, Title, Duration, Genre) from song.songdetails\")\n",
    "for row in rows:\n",
    "    print(f\"SongID={row[0][0]}, Title={row[0][1]}, Duration={row[0][2]}, Genre={row[0][3]}\")"
   ]
  },
  {
   "attachments": {},
   "cell_type": "markdown",
   "metadata": {},
   "source": [
    "### Delete Query"
   ]
  },
  {
   "cell_type": "code",
   "execution_count": 29,
   "metadata": {},
   "outputs": [],
   "source": [
    "# Deleting a record\n",
    "\n",
    "rows = session.execute(\" Delete from song.songdetails where SongID = 210\")\n",
    "for row in rows:\n",
    "    print(f\"{row[0][0]}, {row[0][1]}, {row[0][2]}, {row[0][3]}\")"
   ]
  },
  {
   "cell_type": "code",
   "execution_count": 30,
   "metadata": {},
   "outputs": [
    {
     "name": "stdout",
     "output_type": "stream",
     "text": [
      "SongID=132, Title=Shape of you, Duration=150, Genre=rock\n",
      "SongID=176, Title=Tsunami, Duration=169, Genre=country\n",
      "SongID=143, Title=Starboy, Duration=122, Genre=country\n",
      "SongID=121, Title=Aurora, Duration=142, Genre=pop\n",
      "SongID=198, Title=Stereo Love, Duration=135, Genre=classical\n",
      "SongID=187, Title=Gold Saw, Duration=124, Genre=rock\n",
      "SongID=101, Title=Forever, Duration=120, Genre=country\n",
      "SongID=154, Title=In the Name of Love, Duration=164, Genre=classical\n",
      "SongID=165, Title=One Republic, Duration=120, Genre=rock\n"
     ]
    }
   ],
   "source": [
    "# Check if the record has been deleted\n",
    "\n",
    "rows = session.execute(\"select (SongID, Title, Duration, Genre) from song.songdetails\")\n",
    "for row in rows:\n",
    "    print(f\"SongID={row[0][0]}, Title={row[0][1]}, Duration={row[0][2]}, Genre={row[0][3]}\")"
   ]
  }
 ],
 "metadata": {
  "kernelspec": {
   "display_name": "base",
   "language": "python",
   "name": "python3"
  },
  "language_info": {
   "codemirror_mode": {
    "name": "ipython",
    "version": 3
   },
   "file_extension": ".py",
   "mimetype": "text/x-python",
   "name": "python",
   "nbconvert_exporter": "python",
   "pygments_lexer": "ipython3",
   "version": "3.10.10"
  },
  "orig_nbformat": 4
 },
 "nbformat": 4,
 "nbformat_minor": 2
}
