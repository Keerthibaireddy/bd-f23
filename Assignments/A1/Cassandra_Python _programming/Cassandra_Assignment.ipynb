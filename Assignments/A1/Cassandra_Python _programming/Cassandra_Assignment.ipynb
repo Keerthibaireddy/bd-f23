{
 "cells": [
  {
   "cell_type": "markdown",
   "metadata": {},
   "source": [
    "### Importing the packages"
   ]
  },
  {
   "cell_type": "code",
   "execution_count": 10,
   "metadata": {},
   "outputs": [],
   "source": [
    "import pandas as pd\n",
    "from cassandra.cluster import Cluster"
   ]
  },
  {
   "attachments": {},
   "cell_type": "markdown",
   "metadata": {},
   "source": [
    "### Create a session connection to Cassandra cluster"
   ]
  },
  {
   "cell_type": "code",
   "execution_count": 23,
   "metadata": {},
   "outputs": [
    {
     "ename": "NoHostAvailable",
     "evalue": "('Unable to connect to any servers', {'127.0.0.1:9042': ConnectionRefusedError(111, \"Tried connecting to [('127.0.0.1', 9042)]. Last error: Connection refused\")})",
     "output_type": "error",
     "traceback": [
      "\u001b[0;31m---------------------------------------------------------------------------\u001b[0m",
      "\u001b[0;31mNoHostAvailable\u001b[0m                           Traceback (most recent call last)",
      "Cell \u001b[0;32mIn[23], line 2\u001b[0m\n\u001b[1;32m      1\u001b[0m clstr \u001b[39m=\u001b[39m Cluster()\n\u001b[0;32m----> 2\u001b[0m session \u001b[39m=\u001b[39m clstr\u001b[39m.\u001b[39;49mconnect()\n",
      "File \u001b[0;32m~/miniconda3/envs/bd/lib/python3.8/site-packages/cassandra/cluster.py:1335\u001b[0m, in \u001b[0;36mcassandra.cluster.Cluster.connect\u001b[0;34m()\u001b[0m\n",
      "File \u001b[0;32m~/miniconda3/envs/bd/lib/python3.8/site-packages/cassandra/cluster.py:1371\u001b[0m, in \u001b[0;36mcassandra.cluster.Cluster.connect\u001b[0;34m()\u001b[0m\n",
      "File \u001b[0;32m~/miniconda3/envs/bd/lib/python3.8/site-packages/cassandra/cluster.py:1358\u001b[0m, in \u001b[0;36mcassandra.cluster.Cluster.connect\u001b[0;34m()\u001b[0m\n",
      "File \u001b[0;32m~/miniconda3/envs/bd/lib/python3.8/site-packages/cassandra/cluster.py:2896\u001b[0m, in \u001b[0;36mcassandra.cluster.ControlConnection.connect\u001b[0;34m()\u001b[0m\n",
      "File \u001b[0;32m~/miniconda3/envs/bd/lib/python3.8/site-packages/cassandra/cluster.py:2939\u001b[0m, in \u001b[0;36mcassandra.cluster.ControlConnection._reconnect_internal\u001b[0;34m()\u001b[0m\n",
      "\u001b[0;31mNoHostAvailable\u001b[0m: ('Unable to connect to any servers', {'127.0.0.1:9042': ConnectionRefusedError(111, \"Tried connecting to [('127.0.0.1', 9042)]. Last error: Connection refused\")})"
     ]
    }
   ],
   "source": [
    "clstr = Cluster()\n",
    "session = clstr.connect()"
   ]
  },
  {
   "cell_type": "code",
   "execution_count": 12,
   "metadata": {},
   "outputs": [
    {
     "name": "stdout",
     "output_type": "stream",
     "text": [
      "m14\n",
      "system\n",
      "system_auth\n",
      "system_distributed\n",
      "system_schema\n",
      "system_traces\n",
      "system_views\n",
      "system_virtual_schema\n",
      "w04python\n"
     ]
    }
   ],
   "source": [
    "rows = session.execute(\"desc keyspaces\")\n",
    "for row in rows:\n",
    "    print(f\"{row[0]}\")"
   ]
  },
  {
   "attachments": {},
   "cell_type": "markdown",
   "metadata": {},
   "source": [
    "### Create a keyspace "
   ]
  },
  {
   "cell_type": "code",
   "execution_count": 13,
   "metadata": {},
   "outputs": [
    {
     "data": {
      "text/plain": [
       "<cassandra.cluster.ResultSet at 0x7f6df59d9cd0>"
      ]
     },
     "execution_count": 13,
     "metadata": {},
     "output_type": "execute_result"
    }
   ],
   "source": [
    "session.execute(\"CREATE KEYSPACE IF NOT EXISTS m14 WITH REPLICATION = {'class':'SimpleStrategy', 'replication_factor':2}\")"
   ]
  },
  {
   "cell_type": "code",
   "execution_count": 14,
   "metadata": {},
   "outputs": [
    {
     "name": "stdout",
     "output_type": "stream",
     "text": [
      "   SKU      name                              description  warehouse_num\n",
      "0  101  Widget A            Small Widget for everyday use            123\n",
      "1  102  Widget B   Medium Widget for various applications            456\n",
      "2  103  Widget C        Large Widget for heavy-duty tasks            123\n",
      "3  104  Widget D    Extra-Large Widget for industrial use            789\n",
      "4  105  Gadget X  High-Tech Gadget with advanced features            456\n",
      "5  106  Gadget Y   Advanced Gadget with cutting-edge tech            123\n",
      "6  107    Tool Z    Multipurpose Tool for DIY enthusiasts            789\n",
      "7  108    Tool A         Versatile Tool for professionals            123\n"
     ]
    }
   ],
   "source": [
    "import pandas as pd\n",
    "\n",
    "# Define the sample data\n",
    "data = {\n",
    "    'SKU': [101, 102, 103, 104, 105, 106, 107, 108],\n",
    "    'name': ['Widget A', 'Widget B', 'Widget C', 'Widget D', 'Gadget X', 'Gadget Y', 'Tool Z', 'Tool A'],\n",
    "    'description': [\n",
    "        'Small Widget for everyday use',\n",
    "        'Medium Widget for various applications',\n",
    "        'Large Widget for heavy-duty tasks',\n",
    "        'Extra-Large Widget for industrial use',\n",
    "        'High-Tech Gadget with advanced features',\n",
    "        'Advanced Gadget with cutting-edge tech',\n",
    "        'Multipurpose Tool for DIY enthusiasts',\n",
    "        'Versatile Tool for professionals'\n",
    "    ],\n",
    "    'warehouse_num': [123, 456, 123, 789, 456, 123, 789, 123]\n",
    "}\n",
    "\n",
    "# Create a DataFrame from the data\n",
    "df = pd.DataFrame(data)\n",
    "\n",
    "# Display the DataFrame\n",
    "print(df)\n"
   ]
  },
  {
   "cell_type": "code",
   "execution_count": 16,
   "metadata": {},
   "outputs": [
    {
     "data": {
      "text/plain": [
       "<cassandra.cluster.ResultSet at 0x7f6df4470c40>"
      ]
     },
     "execution_count": 16,
     "metadata": {},
     "output_type": "execute_result"
    }
   ],
   "source": [
    "# Create a table for inventory information\n",
    "session.execute(\"\"\"\n",
    "    CREATE TABLE IF NOT EXISTS m14.inventory (\n",
    "        SKU INT PRIMARY KEY,\n",
    "        name TEXT,\n",
    "        description TEXT,\n",
    "        warehouse_num INT\n",
    "    )\n",
    "\"\"\")"
   ]
  },
  {
   "cell_type": "code",
   "execution_count": 20,
   "metadata": {},
   "outputs": [
    {
     "name": "stdout",
     "output_type": "stream",
     "text": [
      "\n",
      "        INSERT INTO m14.inventory (SKU, name, description, warehouse_num)     \n",
      "        VALUES (101, Widget A, Small Widget for everyday use, 123);\n",
      "        \n",
      "\n",
      "        INSERT INTO m14.inventory (SKU, name, description, warehouse_num)     \n",
      "        VALUES (102, Widget B, Medium Widget for various applications, 456);\n",
      "        \n",
      "\n",
      "        INSERT INTO m14.inventory (SKU, name, description, warehouse_num)     \n",
      "        VALUES (103, Widget C, Large Widget for heavy-duty tasks, 123);\n",
      "        \n",
      "\n",
      "        INSERT INTO m14.inventory (SKU, name, description, warehouse_num)     \n",
      "        VALUES (104, Widget D, Extra-Large Widget for industrial use, 789);\n",
      "        \n",
      "\n",
      "        INSERT INTO m14.inventory (SKU, name, description, warehouse_num)     \n",
      "        VALUES (105, Gadget X, High-Tech Gadget with advanced features, 456);\n",
      "        \n",
      "\n",
      "        INSERT INTO m14.inventory (SKU, name, description, warehouse_num)     \n",
      "        VALUES (106, Gadget Y, Advanced Gadget with cutting-edge tech, 123);\n",
      "        \n",
      "\n",
      "        INSERT INTO m14.inventory (SKU, name, description, warehouse_num)     \n",
      "        VALUES (107, Tool Z, Multipurpose Tool for DIY enthusiasts, 789);\n",
      "        \n",
      "\n",
      "        INSERT INTO m14.inventory (SKU, name, description, warehouse_num)     \n",
      "        VALUES (108, Tool A, Versatile Tool for professionals, 123);\n",
      "        \n"
     ]
    }
   ],
   "source": [
    "for index, row in df.iterrows():\n",
    "    print(f\"\"\"\n",
    "        INSERT INTO m14.inventory (SKU, name, description, warehouse_num)     \n",
    "        VALUES ({row[0]}, {row[1]}, {row[2]}, {row[3]});\n",
    "        \"\"\"\n",
    "       )\n",
    "    session.execute(f\"\"\"\n",
    "        INSERT INTO m14.inventory (SKU, name, description, warehouse_num)     \n",
    "        VALUES ({row[0]}, '{row[1]}', '{row[2]}', {row[3]});\n",
    "        \"\"\"\n",
    "       )"
   ]
  },
  {
   "cell_type": "code",
   "execution_count": 21,
   "metadata": {},
   "outputs": [
    {
     "data": {
      "text/plain": [
       "<cassandra.cluster.ResultSet at 0x7f6df51983a0>"
      ]
     },
     "execution_count": 21,
     "metadata": {},
     "output_type": "execute_result"
    }
   ],
   "source": [
    "# Create an index on warehouse_num\n",
    "session.execute(\"CREATE INDEX IF NOT EXISTS warehouse_index ON m14.inventory (warehouse_num)\")\n"
   ]
  },
  {
   "cell_type": "code",
   "execution_count": 22,
   "metadata": {},
   "outputs": [
    {
     "name": "stdout",
     "output_type": "stream",
     "text": [
      "Products located at warehouse_num 123:\n",
      "SKU: 108, Name: Tool A, Description: Versatile Tool for professionals, Warehouse: 123\n",
      "SKU: 106, Name: Gadget Y, Description: Advanced Gadget with cutting-edge tech, Warehouse: 123\n",
      "SKU: 101, Name: Widget A, Description: Small Widget for everyday use, Warehouse: 123\n",
      "SKU: 103, Name: Widget C, Description: Large Widget for heavy-duty tasks, Warehouse: 123\n"
     ]
    }
   ],
   "source": [
    "# Search for all products located at a given location (e.g., warehouse_num = 123)\n",
    "result = session.execute(\"SELECT * FROM m14.inventory WHERE warehouse_num = %s\", (123,))\n",
    "\n",
    "# Print the results\n",
    "print(\"Products located at warehouse_num 123:\")\n",
    "for row in result:\n",
    "    print(f\"SKU: {row.sku}, Name: {row.name}, Description: {row.description}, Warehouse: {row.warehouse_num}\")\n"
   ]
  },
  {
   "cell_type": "code",
   "execution_count": null,
   "metadata": {},
   "outputs": [],
   "source": []
  }
 ],
 "metadata": {
  "kernelspec": {
   "display_name": "bd",
   "language": "python",
   "name": "python3"
  },
  "language_info": {
   "codemirror_mode": {
    "name": "ipython",
    "version": 3
   },
   "file_extension": ".py",
   "mimetype": "text/x-python",
   "name": "python",
   "nbconvert_exporter": "python",
   "pygments_lexer": "ipython3",
   "version": "3.8.17"
  },
  "orig_nbformat": 4
 },
 "nbformat": 4,
 "nbformat_minor": 2
}
